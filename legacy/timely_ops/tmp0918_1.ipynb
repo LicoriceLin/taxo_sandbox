{
 "cells": [
  {
   "cell_type": "code",
   "execution_count": 1,
   "metadata": {},
   "outputs": [],
   "source": [
    "%load_ext autoreload\n",
    "%autoreload 2"
   ]
  },
  {
   "cell_type": "code",
   "execution_count": 3,
   "metadata": {},
   "outputs": [],
   "source": [
    "import pandas as pd\n",
    "import torch\n",
    "pred:pd.DataFrame=pd.read_pickle('infer/reload_ckpt/seed-10043.pkl')"
   ]
  },
  {
   "cell_type": "code",
   "execution_count": 6,
   "metadata": {},
   "outputs": [
    {
     "data": {
      "text/plain": [
       "Index(['name', 'seq', 'taxo_label', 'domain_label', 'taxo', 'sentence_mask',\n",
       "       'input_ids', 'attention_mask', 'Kingdom_predict', 'Phylum_predict',\n",
       "       'Class_predict', 'Order_predict', 'predict_label'],\n",
       "      dtype='object')"
      ]
     },
     "execution_count": 6,
     "metadata": {},
     "output_type": "execute_result"
    }
   ],
   "source": [
    "pred.columns"
   ]
  },
  {
   "cell_type": "code",
   "execution_count": 4,
   "metadata": {},
   "outputs": [
    {
     "name": "stderr",
     "output_type": "stream",
     "text": [
      "/home/taxo_playground/miniconda3/lib/python3.12/site-packages/tqdm/auto.py:21: TqdmWarning: IProgress not found. Please update jupyter and ipywidgets. See https://ipywidgets.readthedocs.io/en/stable/user_install.html\n",
      "  from .autonotebook import tqdm as notebook_tqdm\n",
      "/home/taxo_playground/miniconda3/lib/python3.12/site-packages/transformers/tokenization_utils_base.py:1601: FutureWarning: `clean_up_tokenization_spaces` was not set. It will be set to `True` by default. This behavior will be depracted in transformers v4.45, and will be then set to `False` by default. For more details check this issue: https://github.com/huggingface/transformers/issues/31884\n",
      "  warnings.warn(\n"
     ]
    }
   ],
   "source": [
    "from hierataxo import  OrderManager\n",
    "from hierataxo.dataset import ConcatProteinDataModule\n",
    "import pickle as pkl\n",
    "max_length=500\n",
    "max_domain=15\n",
    "train_bs=2\n",
    "infer_bs=30\n",
    "\n",
    "order_manager=OrderManager(pkl.load(open('taxo_data/hierarchy_order.pkl','rb'))['Riboviria'],\n",
    "                        level_names=['Kingdom','Phylum','Class','Order'])\n",
    "\n",
    "datamodule=ConcatProteinDataModule(order_manager,'taxo_data/proseq_taxo_1.pkl',\n",
    "    max_length=max_length,max_domain=max_domain,train_bs=train_bs,infer_bs=infer_bs)\n",
    "datamodule.setup('predict')\n",
    "data=datamodule.dataset.data\n",
    "# data[data['family'].apply(lambda x:len(x))>15].to_pickle('taxo_data/proseq_taxo_15more.pkl')"
   ]
  },
  {
   "cell_type": "code",
   "execution_count": 5,
   "metadata": {},
   "outputs": [
    {
     "data": {
      "text/plain": [
       "np.int64(28)"
      ]
     },
     "execution_count": 5,
     "metadata": {},
     "output_type": "execute_result"
    }
   ],
   "source": [
    "data['family'].apply(lambda x:len(x)).max()"
   ]
  },
  {
   "cell_type": "code",
   "execution_count": 6,
   "metadata": {},
   "outputs": [
    {
     "data": {
      "text/plain": [
       "count    22693.000000\n",
       "mean       306.796369\n",
       "std        225.866445\n",
       "min          6.000000\n",
       "25%        144.000000\n",
       "50%        248.000000\n",
       "75%        415.000000\n",
       "max       2054.000000\n",
       "Name: seq, dtype: float64"
      ]
     },
     "execution_count": 6,
     "metadata": {},
     "output_type": "execute_result"
    }
   ],
   "source": [
    "o=[]\n",
    "for name,s in data.iterrows():\n",
    "    for i,(seq,family) in enumerate(zip(s['seq'].upper().replace('-','').split('#'),s['family'])):\n",
    "        o.append({\n",
    "            'name':f'{name}-{i}-{family}',\n",
    "            'seq':seq,\n",
    "            'taxo':s['taxo'],\n",
    "            'family':(family,)\n",
    "        } )\n",
    "\n",
    "data_single_domain=pd.DataFrame(o).set_index('name')\n",
    "# data_single_domain.to_pickle('taxo_data/proseq_taxo_single_domain.pkl')\n",
    "# data_single_domain[data_single_domain['seq'].apply(lambda x:len(x))>1000].to_pickle('taxo_data/proseq_taxo_single_domain_1000more.pkl')\n",
    "data_single_domain['seq'].apply(lambda x:len(x)).describe()"
   ]
  },
  {
   "cell_type": "code",
   "execution_count": 7,
   "metadata": {},
   "outputs": [],
   "source": [
    "import matplotlib.pyplot as plt\n",
    "from hierataxo.util import xkcd_color,hide_spline\n",
    "plt.rcParams.update(plt.rcParamsDefault)\n",
    "plt.rcParams.update({\n",
    "    # \"text.usetex\": True,\n",
    "    # \"text.latex.preamble\": r\"\\usepackage{amsmath}\",\n",
    "    'svg.fonttype':'none',\n",
    "    'font.sans-serif':['Arial','Helvetica',\n",
    "        'DejaVu Sans',\n",
    "        'Bitstream Vera Sans',\n",
    "        'Computer Modern Sans Serif',\n",
    "        'Lucida Grande',\n",
    "        'Verdana',\n",
    "        'Geneva',\n",
    "        'Lucid',\n",
    "        'Avant Garde',\n",
    "        'sans-serif'],\n",
    "    \"pdf.use14corefonts\":False,\n",
    "    'pdf.fonttype':42,\n",
    "    'text.color':xkcd_color('dark grey'),\n",
    "    'axes.labelweight':'heavy',\n",
    "    'axes.titleweight':'extra bold'\n",
    "        })"
   ]
  },
  {
   "cell_type": "code",
   "execution_count": 10,
   "metadata": {},
   "outputs": [],
   "source": [
    "plt.close()\n",
    "fig,ax=plt.subplots(1,1)\n",
    "data_single_domain['seq'].apply(lambda x:len(x)).hist(ax=ax,color=xkcd_color('steel grey'),bins=40)\n",
    "ax.set_xlabel('domain length')\n",
    "ax.set_ylabel('count')\n",
    "ax.grid(False)\n",
    "hide_spline(ax=ax,hide='tr')\n",
    "# plt.show()\n",
    "fig.savefig('tmp_cm_ana/figs/domain_length.svg')\n",
    "plt.close()"
   ]
  },
  {
   "cell_type": "code",
   "execution_count": 1,
   "metadata": {},
   "outputs": [
    {
     "ename": "NameError",
     "evalue": "name 'plt' is not defined",
     "output_type": "error",
     "traceback": [
      "\u001b[0;31m---------------------------------------------------------------------------\u001b[0m",
      "\u001b[0;31mNameError\u001b[0m                                 Traceback (most recent call last)",
      "Cell \u001b[0;32mIn[1], line 1\u001b[0m\n\u001b[0;32m----> 1\u001b[0m plt\u001b[38;5;241m.\u001b[39mclose()\n\u001b[1;32m      2\u001b[0m fig,ax\u001b[38;5;241m=\u001b[39mplt\u001b[38;5;241m.\u001b[39msubplots(\u001b[38;5;241m1\u001b[39m,\u001b[38;5;241m1\u001b[39m)\n\u001b[1;32m      3\u001b[0m data[\u001b[38;5;124m'\u001b[39m\u001b[38;5;124mfamily\u001b[39m\u001b[38;5;124m'\u001b[39m]\u001b[38;5;241m.\u001b[39mapply(\u001b[38;5;28;01mlambda\u001b[39;00m x:\u001b[38;5;28mlen\u001b[39m(x))\u001b[38;5;241m.\u001b[39mhist(ax\u001b[38;5;241m=\u001b[39max,color\u001b[38;5;241m=\u001b[39mxkcd_color(\u001b[38;5;124m'\u001b[39m\u001b[38;5;124msteel grey\u001b[39m\u001b[38;5;124m'\u001b[39m),bins\u001b[38;5;241m=\u001b[39m\u001b[38;5;241m10\u001b[39m)\n",
      "\u001b[0;31mNameError\u001b[0m: name 'plt' is not defined"
     ]
    }
   ],
   "source": [
    "plt.close()\n",
    "fig,ax=plt.subplots(1,1)\n",
    "data['family'].apply(lambda x:len(x)).hist(ax=ax,color=xkcd_color('steel grey'),bins=10)\n",
    "ax.set_xlabel('domain per segments')\n",
    "ax.set_ylabel('count')\n",
    "ax.grid(False)\n",
    "hide_spline(ax=ax,hide='tr')\n",
    "fig.savefig('tmp_cm_ana/figs/domain_count.svg')\n",
    "fig.tight_layout()\n",
    "plt.close()"
   ]
  },
  {
   "cell_type": "code",
   "execution_count": 49,
   "metadata": {},
   "outputs": [
    {
     "data": {
      "text/plain": [
       "0"
      ]
     },
     "execution_count": 49,
     "metadata": {},
     "output_type": "execute_result"
    }
   ],
   "source": [
    "plt.rcParams['text.kerning_factor']"
   ]
  },
  {
   "cell_type": "code",
   "execution_count": 46,
   "metadata": {},
   "outputs": [
    {
     "data": {
      "text/plain": [
       "['axes.formatter.use_mathtext',\n",
       " 'legend.handletextpad',\n",
       " 'mathtext.bf',\n",
       " 'mathtext.bfit',\n",
       " 'mathtext.cal',\n",
       " 'mathtext.default',\n",
       " 'mathtext.fallback',\n",
       " 'mathtext.fontset',\n",
       " 'mathtext.it',\n",
       " 'mathtext.rm',\n",
       " 'mathtext.sf',\n",
       " 'mathtext.tt',\n",
       " 'text.antialiased',\n",
       " 'text.color',\n",
       " 'text.hinting',\n",
       " 'text.hinting_factor',\n",
       " 'text.kerning_factor',\n",
       " 'text.latex.preamble',\n",
       " 'text.parse_math',\n",
       " 'text.usetex']"
      ]
     },
     "execution_count": 46,
     "metadata": {},
     "output_type": "execute_result"
    }
   ],
   "source": [
    "[i for i in plt.rcParams if 'text' in i]"
   ]
  },
  {
   "cell_type": "code",
   "execution_count": 51,
   "metadata": {},
   "outputs": [],
   "source": [
    "plt.close()\n",
    "fig, ax = plt.subplots()\n",
    "\n",
    "ax.plot([1, 2, 3], label=r'$\\sqrt{x^2}$')\n",
    "ax.legend()\n",
    "\n",
    "ax.set_xlabel(r'$\\Delta_i^j$', fontsize=20)\n",
    "ax.set_ylabel(r'$\\Delta_{i+1}^j$', fontsize=20)\n",
    "ax.set_title(r'$\\Delta_i^j \\hspace{0.4} \\mathrm{versus} \\hspace{0.4} '\n",
    "             r'\\Delta_{i+1}^j$', fontsize=20)\n",
    "\n",
    "tex = r'$\\mathcal{R}\\prod_{i=\\alpha_{i+1}}^\\infty a_i\\sin(2 \\pi f x_i)$'\n",
    "ax.text(1, 1.6, tex, fontsize=20, va='bottom')\n",
    "\n",
    "fig.tight_layout()\n",
    "# plt.show()\n",
    "fig.savefig('math.svg')"
   ]
  },
  {
   "cell_type": "code",
   "execution_count": 54,
   "metadata": {},
   "outputs": [],
   "source": [
    "from hierataxo.util import named_taxo_palette\n",
    "\n",
    "\n",
    "for i,level_name in enumerate(order_manager.level_names):\n",
    "    plt.close()\n",
    "    dist=pred['taxo_label'].apply(lambda x:x[i]).value_counts().to_dict()\n",
    "    dist['null']=0\n",
    "    for i in list(dist.keys()):\n",
    "        if 'Null' in i:\n",
    "            dist['null']+=dist.pop(i)\n",
    "    pie_l=[]\n",
    "    for k,v in dist.items():\n",
    "        pie_l.append([k,v,\n",
    "                    named_taxo_palette.get(k,xkcd_color('grey')),\n",
    "                    order_manager.graph_pos.get(k,[0,0])[1]])\n",
    "    pie_l.sort(key=lambda x:x[1],reverse=True)\n",
    "    # after_null=0\n",
    "    # for i in range(len(pie_l)):\n",
    "    #     if after_null==1:\n",
    "    #         pie_l[i][0]=''\n",
    "    #     if pie_l[i][0]=='null':\n",
    "    #         after_null=1\n",
    "    #         null_count=pie_l[i][1]\n",
    "    for i in range(len(pie_l)):\n",
    "        if pie_l[i][1]<60:\n",
    "            pie_l[i][0]=''\n",
    "\n",
    "    fig, ax = plt.subplots(1,1,figsize=(12,12))\n",
    "    def autopct(x:float):\n",
    "        c=x*len(pred)/100\n",
    "        if c<60:\n",
    "            return ''\n",
    "        else:\n",
    "            return f'{int(c)}'\n",
    "        # if c<null_count:\n",
    "        #     return ''\n",
    "        # else:\n",
    "        #     return f'{int(c)}'\n",
    "    ax.pie(\n",
    "        x=[i[1] for i in pie_l],\n",
    "        labels=[i[0] for i in pie_l],\n",
    "        colors=[i[2] for i in pie_l],\n",
    "        autopct=autopct, #lambda x:f'{int(x*len(pie_l))}'\n",
    "        # font_size=12\n",
    "        textprops={'fontweight':'bold','fontsize':12}\n",
    "        )\n",
    "    ax.set_title(f'{level_name}-distribution')\n",
    "    fig.savefig(f'tmp_cm_ana/figs/distribution-{level_name}.svg')\n",
    "    # plt.show()\n",
    "    plt.close()"
   ]
  },
  {
   "cell_type": "code",
   "execution_count": 27,
   "metadata": {},
   "outputs": [
    {
     "data": {
      "text/plain": [
       "[['Orthornavirae', 6497, '#ffff43', (286.11, 324.86)],\n",
       " ['Pararnavirae', 135, '#c6afe9', (422.92, 280.41)],\n",
       " ['null', 28, 0.5843137254901961, 0]]"
      ]
     },
     "execution_count": 27,
     "metadata": {},
     "output_type": "execute_result"
    }
   ],
   "source": [
    "pie_l"
   ]
  },
  {
   "cell_type": "code",
   "execution_count": 21,
   "metadata": {},
   "outputs": [
    {
     "data": {
      "text/plain": [
       "{'Orthornavirae': 6497, 'Pararnavirae': 135, 'Null': 28}"
      ]
     },
     "execution_count": 21,
     "metadata": {},
     "output_type": "execute_result"
    }
   ],
   "source": [
    "dist"
   ]
  },
  {
   "cell_type": "code",
   "execution_count": 17,
   "metadata": {},
   "outputs": [
    {
     "data": {
      "text/plain": [
       "{'root': (355.52, 305.71),\n",
       " 'Orthornavirae': (286.11, 324.86),\n",
       " 'Duplornaviricota': (494.33, 344.02),\n",
       " 'Chrymotiviricetes': (570.65, 325.07),\n",
       " 'Ghabrivirales': (642.36, 331.53),\n",
       " 'Resentoviricetes': (563.73, 363.17),\n",
       " 'Reovirales': (633.14, 382.33),\n",
       " 'Vidaverviricetes': (550.12, 399.43),\n",
       " 'Mindivirales': (614.99, 430.67),\n",
       " 'Kitrinoviricota': (423.75, 432.52),\n",
       " 'Alsuviricetes': (504.78, 461.83),\n",
       " 'Hepelivirales': (588.51, 474.99),\n",
       " 'Martellivirales': (554.54, 513.87),\n",
       " 'Tymovirales': (514.17, 546.07),\n",
       " 'Flasuviricetes': (440.41, 504.33),\n",
       " 'Amarillovirales': (468.71, 570.53),\n",
       " 'Magsaviricetes': (403.58, 516.29),\n",
       " 'Nodamuvirales': (419.6, 586.49),\n",
       " 'Tolucaviricetes': (365.21, 521.49),\n",
       " 'Tolivirales': (368.44, 593.42),\n",
       " 'Lenarviricota': (276.19, 425.89),\n",
       " 'Amabiliviricetes': (326.52, 519.76),\n",
       " 'Wolframvirales': (316.86, 591.1),\n",
       " 'Howeltoviricetes': (288.77, 511.14),\n",
       " 'Cryppavirales': (266.52, 579.61),\n",
       " 'Leviviricetes': (220.84, 474.59),\n",
       " 'Norzivirales': (219.04, 559.32),\n",
       " 'Timlovirales': (175.95, 530.88),\n",
       " \"Leviviricetes's Null\": (138.63, 495.2),\n",
       " 'Miaviricetes': (170.09, 416.5),\n",
       " 'Ourlivirales': (108.28, 453.42),\n",
       " 'Negarnaviricota': (216.7, 267.4),\n",
       " 'Chunqiuviricetes': (153.29, 381.61),\n",
       " 'Muvirales': (85.88, 406.91),\n",
       " 'Milneviricetes': (142.99, 344.28),\n",
       " 'Serpentovirales': (72.144, 357.13),\n",
       " 'Monjiviricetes': (140.38, 286.35),\n",
       " 'Jingchuvirales': (67.515, 305.71),\n",
       " 'Mononegavirales': (72.144, 254.29),\n",
       " 'Yunchangviricetes': (153.29, 229.81),\n",
       " 'Goujianvirales': (85.88, 204.51),\n",
       " 'Ellioviricetes': (170.09, 194.92),\n",
       " 'Bunyavirales': (108.28, 158.0),\n",
       " 'Insthoviricetes': (192.85, 163.6),\n",
       " 'Articulavirales': (138.63, 116.22),\n",
       " \"Negarnaviricota's Null\": (220.84, 136.83),\n",
       " \"Negarnaviricota's Null's Null\": (175.95, 80.543),\n",
       " 'Pisuviricota': (374.84, 163.01),\n",
       " 'Duplopiviricetes': (253.16, 115.5),\n",
       " 'Durnavirales': (219.04, 52.098),\n",
       " 'Pisoniviricetes': (326.52, 91.665),\n",
       " 'Nidovirales': (266.52, 31.806),\n",
       " 'Picornavirales': (316.86, 20.316),\n",
       " 'Sobelivirales': (368.44, 18.0),\n",
       " 'Stelpaviricetes': (422.26, 100.28),\n",
       " 'Patatavirales': (419.6, 24.931),\n",
       " 'Stellavirales': (468.71, 40.886),\n",
       " \"Pisuviricota's Null\": (490.19, 136.83),\n",
       " 'Yadokarivirales': (514.17, 65.353),\n",
       " \"Pisuviricota's Null's Null\": (554.54, 97.545),\n",
       " \"Orthornavirae's Null\": (472.01, 221.07),\n",
       " \"Orthornavirae's Null's Null\": (530.26, 178.75),\n",
       " \"Orthornavirae's Null's Null's Null\": (588.51, 136.43),\n",
       " 'Pararnavirae': (422.92, 280.41),\n",
       " 'Artverviricota': (490.33, 255.11),\n",
       " 'Revtraviricetes': (557.74, 229.81),\n",
       " 'Blubervirales': (614.99, 180.75),\n",
       " 'Ortervirales': (633.14, 229.09),\n",
       " \"root's Null\": (427.23, 299.26),\n",
       " \"root's Null's Null\": (498.94, 292.8),\n",
       " \"root's Null's Null's Null\": (570.65, 286.35),\n",
       " \"root's Null's Null's Null's Null\": (642.36, 279.89)}"
      ]
     },
     "execution_count": 17,
     "metadata": {},
     "output_type": "execute_result"
    }
   ],
   "source": [
    "order_manager.graph_pos"
   ]
  }
 ],
 "metadata": {
  "kernelspec": {
   "display_name": "base",
   "language": "python",
   "name": "python3"
  },
  "language_info": {
   "codemirror_mode": {
    "name": "ipython",
    "version": 3
   },
   "file_extension": ".py",
   "mimetype": "text/x-python",
   "name": "python",
   "nbconvert_exporter": "python",
   "pygments_lexer": "ipython3",
   "version": "3.12.2"
  }
 },
 "nbformat": 4,
 "nbformat_minor": 2
}
